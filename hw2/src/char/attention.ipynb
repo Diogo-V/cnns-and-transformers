{
 "cells": [
  {
   "cell_type": "code",
   "execution_count": 2,
   "id": "improving-payment",
   "metadata": {},
   "outputs": [
    {
     "data": {
      "text/plain": [
       "<torch._C.Generator at 0x115c7e910>"
      ]
     },
     "execution_count": 2,
     "metadata": {},
     "output_type": "execute_result"
    }
   ],
   "source": [
    "import random\n",
    "\n",
    "import numpy as np\n",
    "import torch\n",
    "import torch.nn as nn\n",
    "import torch.nn.functional as F\n",
    "\n",
    "%matplotlib inline\n",
    "\n",
    "random.seed(5)\n",
    "np.random.seed(5)\n",
    "torch.random.manual_seed(5)"
   ]
  },
  {
   "cell_type": "markdown",
   "id": "f1d49658",
   "metadata": {},
   "source": [
    "### Question 1.1"
   ]
  },
  {
   "cell_type": "code",
   "execution_count": 2,
   "id": "violent-pulse",
   "metadata": {},
   "outputs": [
    {
     "name": "stdout",
     "output_type": "stream",
     "text": [
      "(4, 3)\n"
     ]
    }
   ],
   "source": [
    "x1 = np.array([-2.0, 1.0, 0.5])\n",
    "x2 = np.array([1.0, 1.5, -0.5])\n",
    "x3 = np.array([-1.5, 1.0, -0.5])\n",
    "x4 = np.array([-2.0, -2.5, 1.5])\n",
    "\n",
    "X = np.array([x1, x2, x3, x4])\n",
    "\n",
    "print(X.shape)"
   ]
  },
  {
   "cell_type": "code",
   "execution_count": 5,
   "id": "dressed-oracle",
   "metadata": {},
   "outputs": [
    {
     "name": "stdout",
     "output_type": "stream",
     "text": [
      "3\n",
      "[4.5 0.  4.5 0. ]\n",
      "[2.59807621 0.         2.59807621 0.        ]\n",
      "[0.46536883 0.03463117 0.46536883 0.03463117]\n",
      "[-1.66342208  0.8961065   0.03463117]\n"
     ]
    }
   ],
   "source": [
    "q = np.array([-2.0, 1.0, -1.0])\n",
    "\n",
    "print(np.size(q))\n",
    "\n",
    "scores = X.dot(q) / np.sqrt(np.size(q))\n",
    "probabilities = np.exp(scores) / np.sum(np.exp(scores))\n",
    "output = X.T.dot(probabilities)\n",
    "\n",
    "print(X.dot(q))\n",
    "print(scores)\n",
    "print(probabilities)\n",
    "print(output)"
   ]
  },
  {
   "cell_type": "markdown",
   "id": "relevant-centre",
   "metadata": {},
   "source": [
    "### Question 1.2"
   ]
  },
  {
   "cell_type": "code",
   "execution_count": 21,
   "id": "opposed-trailer",
   "metadata": {},
   "outputs": [
    {
     "name": "stdout",
     "output_type": "stream",
     "text": [
      "[[-2.25  4.5 ]\n",
      " [ 1.25  2.  ]\n",
      " [-1.25  4.75]\n",
      " [-2.75 -3.5 ]]\n",
      "[[ 5.75  1.5 ]\n",
      " [ 2.   -0.5 ]\n",
      " [ 4.5   2.  ]\n",
      " [-2.5   0.5 ]]\n",
      "[[-2.5  -7.5 ]\n",
      " [ 0.25  0.  ]\n",
      " [-2.   -5.25]\n",
      " [-0.75 -1.5 ]]\n",
      "1.4142135623730951\n",
      "[[ -4.37522321  -4.77297077  -0.79549513   5.5684659 ]\n",
      " [  7.20365033   1.06066017   6.80590277  -1.50260191]\n",
      " [ -0.04419417  -3.44714556   2.74003878   3.8890873 ]\n",
      " [-14.89343658  -2.65165043 -13.70019389   3.62392225]]\n",
      "[[4.79433566e-05 3.22098620e-05 1.71943035e-03 9.98200416e-01]\n",
      " [5.97319598e-01 1.28333499e-03 4.01298182e-01 9.88847812e-05]\n",
      " [1.46423661e-02 4.87223528e-04 2.37021787e-01 7.47848624e-01]\n",
      " [9.06143069e-09 1.87817885e-03 2.98824011e-08 9.98121782e-01]]\n",
      "[[-0.75220098 -1.50668721]\n",
      " [-2.29564869 -6.58686077]\n",
      " [-1.07141415 -2.47595506]\n",
      " [-0.74812187 -1.4971829 ]]\n",
      "[1. 1. 1. 1.]\n"
     ]
    }
   ],
   "source": [
    "W_Q = np.array([[1, -1.5], [0, 2], [-0.5, -1]])\n",
    "W_K = np.array([[-1.5, -1], [2.5, 0], [0.5, -1]])\n",
    "W_V = np.array([[1, 2.5], [-0.5, -2], [0, -1]])\n",
    "\n",
    "#print(W_Q)\n",
    "#print(W_K)\n",
    "#print(W_V)\n",
    "\n",
    "Q = X.dot(W_Q)\n",
    "K = X.dot(W_K)\n",
    "V = X.dot(W_V)\n",
    "\n",
    "print(Q)\n",
    "print(K)\n",
    "print(V)\n",
    "\n",
    "print(np.sqrt(np.size(Q, 1)))\n",
    "\n",
    "scores = Q.dot(K.T) / np.sqrt(np.size(Q, 1))\n",
    "probabilities = np.exp(scores) / np.sum(np.exp(scores), axis=1)[:, None]\n",
    "\n",
    "Z = probabilities.dot(V)\n",
    "\n",
    "print(scores)\n",
    "print(probabilities)\n",
    "print(Z)\n",
    "\n",
    "print(probabilities.sum(axis=1))"
   ]
  },
  {
   "cell_type": "code",
   "execution_count": 7,
   "id": "animated-barrel",
   "metadata": {},
   "outputs": [
    {
     "data": {
      "text/plain": [
       "<matplotlib.image.AxesImage at 0x15527ea60>"
      ]
     },
     "execution_count": 7,
     "metadata": {},
     "output_type": "execute_result"
    },
    {
     "data": {
      "image/png": "[encoded data removed]",
      "text/plain": [
       "<Figure size 432x288 with 1 Axes>"
      ]
     },
     "metadata": {
      "needs_background": "light"
     },
     "output_type": "display_data"
    }
   ],
   "source": [
    "import matplotlib.pyplot as plt\n",
    "plt.imshow(probabilities)"
   ]
  },
  {
   "cell_type": "markdown",
   "id": "bibliographic-funds",
   "metadata": {},
   "source": [
    "### Question 1.3"
   ]
  },
  {
   "cell_type": "code",
   "execution_count": 8,
   "id": "patient-wyoming",
   "metadata": {},
   "outputs": [
    {
     "name": "stdout",
     "output_type": "stream",
     "text": [
      "[[4.79433566e-05 3.22098620e-05 1.71943035e-03 9.98200416e-01]\n",
      " [5.97319598e-01 1.28333499e-03 4.01298182e-01 9.88847812e-05]\n",
      " [1.46423661e-02 4.87223528e-04 2.37021787e-01 7.47848624e-01]\n",
      " [9.06143069e-09 1.87817885e-03 2.98824011e-08 9.98121782e-01]]\n",
      "[[-0.75220098 -1.50668721]\n",
      " [-2.29564869 -6.58686077]\n",
      " [-1.07141415 -2.47595506]\n",
      " [-0.74812187 -1.4971829 ]]\n"
     ]
    },
    {
     "data": {
      "image/png": "[encoded data removed]",
      "text/plain": [
       "<Figure size 432x288 with 1 Axes>"
      ]
     },
     "metadata": {
      "needs_background": "light"
     },
     "output_type": "display_data"
    },
    {
     "name": "stdout",
     "output_type": "stream",
     "text": [
      "[[1.18306921e-01 2.01966211e-02 1.68483136e-01 6.93013322e-01]\n",
      " [8.48429312e-04 9.98944583e-01 2.06267364e-04 7.20592823e-07]\n",
      " [2.67590116e-02 7.79843042e-04 5.42703523e-02 9.18190793e-01]\n",
      " [2.47463407e-05 6.12522986e-10 2.06437556e-04 9.99768815e-01]]\n",
      "[[-2.26628332 -2.26628332]\n",
      " [ 1.99725652  1.99725652]\n",
      " [-2.82066255 -2.82066255]\n",
      " [-2.99952526 -2.99952526]]\n"
     ]
    },
    {
     "data": {
      "image/png": "[encoded data removed]",
      "text/plain": [
       "<Figure size 432x288 with 1 Axes>"
      ]
     },
     "metadata": {
      "needs_background": "light"
     },
     "output_type": "display_data"
    },
    {
     "name": "stdout",
     "output_type": "stream",
     "text": [
      "[[-0.75220098 -1.50668721 -2.26628332 -2.26628332]\n",
      " [-2.29564869 -6.58686077  1.99725652  1.99725652]\n",
      " [-1.07141415 -2.47595506 -2.82066255 -2.82066255]\n",
      " [-0.74812187 -1.4971829  -2.99952526 -2.99952526]]\n",
      "[[-6.04664898  3.77781072 -0.75731086]\n",
      " [ 8.28741825  0.14750295 10.57968068]\n",
      " [-7.3905735   5.09982766 -0.01158073]\n",
      " [-8.25045389  4.87428797 -1.50140321]]\n"
     ]
    }
   ],
   "source": [
    "W_O = np.array([[-1, 1.5, 2], [0, -1, -2], [1, -1.5, 0], [2, 0, 1]])\n",
    "\n",
    "W_Q_heads = [W_Q, np.ones_like(W_Q)]\n",
    "W_K_heads = [W_K, np.ones_like(W_K)]\n",
    "W_V_heads = [W_V, np.ones_like(W_V)]\n",
    "\n",
    "head_representations = []\n",
    "\n",
    "for W_Q_h, W_K_h, W_V_h in zip(W_Q_heads, W_K_heads, W_V_heads):\n",
    "    Q_h = X.dot(W_Q_h)\n",
    "    K_h = X.dot(W_K_h)\n",
    "    V_h = X.dot(W_V_h)\n",
    "    scores = Q_h.dot(K_h.T) / np.sqrt(np.size(Q_h, 1))\n",
    "    probabilities = np.exp(scores) / np.sum(np.exp(scores), axis=1)[:, None]\n",
    "    Z_h = probabilities.dot(V_h)\n",
    "    head_representations.append(Z_h)\n",
    "    print(probabilities)\n",
    "    print(Z_h)\n",
    "    plt.imshow(probabilities)\n",
    "    plt.show()\n",
    "    \n",
    "print(np.concatenate(head_representations, axis=1))\n",
    "\n",
    "Z = np.concatenate(head_representations, axis=1).dot(W_O)\n",
    "\n",
    "print(Z)"
   ]
  },
  {
   "cell_type": "markdown",
   "id": "f538217d",
   "metadata": {},
   "source": [
    "### Question 2"
   ]
  },
  {
   "cell_type": "markdown",
   "id": "cd9e39cd",
   "metadata": {},
   "source": [
    "In this exercise, you will implement a sequence-to-sequence network that reverses strings with the help of attention. We will randomly generate strings consisting of \"a\", \"b\", \"c\", and \"d\"."
   ]
  },
  {
   "cell_type": "code",
   "execution_count": 4,
   "id": "dbb48a59",
   "metadata": {},
   "outputs": [
    {
     "name": "stdout",
     "output_type": "stream",
     "text": [
      "['ccac', 'dcdabccd', 'abdacbc', 'ccdadbdadbad', 'accaaaccc', 'dabbccbadba', 'caacaaac', 'abbcd', 'baadca', 'dbabbabccbdbbd']\n"
     ]
    }
   ],
   "source": [
    "BOS = \"<s>\"\n",
    "EOS = \"</s>\"\n",
    "\n",
    "raw_vocab = list(\"abcd\")\n",
    "itos = [BOS, EOS] + raw_vocab\n",
    "stoi = {n: i for i, n in enumerate(itos)}\n",
    "vocab_size = len(itos)  # Plus BOS/EOS\n",
    "\n",
    "N = 200\n",
    "valid_size = 100\n",
    "\n",
    "def sample_string(min_length, max_length):\n",
    "    length = random.randrange(min_length, max_length)\n",
    "    return \"\".join([random.choice(raw_vocab) for _ in range(length)])\n",
    "\n",
    "def sample_strings(min_length, max_length, size):\n",
    "    return [sample_string(min_length, max_length) for _ in range(size)]\n",
    "\n",
    "def to_tensor(name):\n",
    "    indices = [stoi[BOS]] + [stoi[n] for n in name] + [stoi[EOS]]\n",
    "    return torch.tensor(indices, dtype=torch.long).unsqueeze(0)\n",
    "\n",
    "def make_dataset(lines):\n",
    "    dataset = [(to_tensor(line), to_tensor(reversed(line))) for line in lines]\n",
    "    return dataset\n",
    "\n",
    "train_lines = sample_strings(3, 15, N)\n",
    "valid_lines = sample_strings(3, 15, valid_size)\n",
    "\n",
    "train_dataset = make_dataset(train_lines)\n",
    "valid_dataset = make_dataset(valid_lines)\n",
    "\n",
    "print(train_lines[:10])"
   ]
  },
  {
   "cell_type": "markdown",
   "id": "4c4dc806",
   "metadata": {},
   "source": [
    "The first part of the model is an RNN-based encoder:"
   ]
  },
  {
   "cell_type": "code",
   "execution_count": 5,
   "id": "ad9671f8",
   "metadata": {},
   "outputs": [],
   "source": [
    "class Encoder(nn.Module):\n",
    "    def __init__(self, vocab_size, embedding_size, hidden_size, bidirectional=False):\n",
    "        super(Encoder, self).__init__()\n",
    "\n",
    "        self.embeddings = nn.Embedding(vocab_size, embedding_size)\n",
    "\n",
    "        if bidirectional:\n",
    "            hidden_size //= 2\n",
    "        self.rnn = nn.LSTM(\n",
    "            embedding_size, \n",
    "            hidden_size, \n",
    "            bidirectional=bidirectional, \n",
    "            batch_first=True\n",
    "        )\n",
    "\n",
    "    def forward(self, input, hidden=None):\n",
    "        \"\"\"\n",
    "        input (LongTensor): batch x src length\n",
    "        src length (batch-length list0: If given, the input will be packed\n",
    "        hidden: hidden or hidden/cell state input dimensions for the RNN type\n",
    "        returns:\n",
    "            output (FloatTensor): batch x src length x hidden size\n",
    "            hidden_n (FloatTensor): hidden or hidden/cell state input\n",
    "                dimensions for the RNN type\n",
    "        \"\"\"\n",
    "        emb = self.embeddings(input)\n",
    "        output, hidden_n = self.rnn(emb, hidden)\n",
    "        if self.rnn.bidirectional:\n",
    "            hidden_n = self._reshape_hidden(hidden_n)\n",
    "        return output, hidden_n\n",
    "\n",
    "    def _merge_tensor(self, state_tensor):\n",
    "        forward_states = state_tensor[::2]\n",
    "        backward_states = state_tensor[1::2]\n",
    "        return torch.cat([forward_states, backward_states], 2)\n",
    "\n",
    "    def _reshape_hidden(self, hidden):\n",
    "        \"\"\"\n",
    "        hidden:\n",
    "            num_layers * num_directions x batch x self.hidden_size // 2\n",
    "            or a tuple of these\n",
    "        returns:\n",
    "            num_layers\n",
    "        \"\"\"\n",
    "        assert self.rnn.bidirectional\n",
    "        if isinstance(hidden, tuple):\n",
    "            return tuple(self._merge_tensor(h) for h in hidden)\n",
    "        else:\n",
    "            return self._merge_tensor(hidden)"
   ]
  },
  {
   "cell_type": "markdown",
   "id": "d964f08c",
   "metadata": {},
   "source": [
    "We also need to define a decoder. This implementation works both with and without an attention mechanism."
   ]
  },
  {
   "cell_type": "code",
   "execution_count": 6,
   "id": "057b604e",
   "metadata": {},
   "outputs": [],
   "source": [
    "class Decoder(nn.Module):\n",
    "    def __init__(self, vocab_size, embedding_size, hidden_size, attn=None):\n",
    "        super(Decoder, self).__init__()\n",
    "        self.embeddings = nn.Embedding(vocab_size, embedding_size)\n",
    "        self.rnn = nn.LSTM(embedding_size, hidden_size, batch_first=True)\n",
    "        self.output_layer = nn.Linear(hidden_size, vocab_size)\n",
    "        self.attn = attn\n",
    "\n",
    "    def forward(self, input, context, hidden):\n",
    "        \"\"\"\n",
    "        input (LongTensor): batch x tgt length\n",
    "        context (FloatTensor): batch x src length x hidden size\n",
    "        hidden: hidden or hidden/cell state input dimensions for the RNN type\n",
    "        returns (FloatTensor): (batch*tgt length) x output size\n",
    "        \"\"\"\n",
    "        emb = self.embeddings(input)\n",
    "        output, hidden_n = self.rnn(emb, hidden)\n",
    "\n",
    "        alignment = None\n",
    "        # apply attention between source context and query from\n",
    "        # decoder RNN\n",
    "        if self.attn is not None:\n",
    "            output, alignment = self.attn(output, context)\n",
    "\n",
    "        flat_output = output.contiguous().view(-1, self.rnn.hidden_size)\n",
    "        return self.output_layer(flat_output), alignment"
   ]
  },
  {
   "cell_type": "markdown",
   "id": "43860e02",
   "metadata": {},
   "source": [
    "We can put them together into an encoder-decoder model class, like this:"
   ]
  },
  {
   "cell_type": "code",
   "execution_count": 7,
   "id": "e5557b0e",
   "metadata": {},
   "outputs": [],
   "source": [
    "class Seq2Seq(nn.Module):\n",
    "    def __init__(self, encoder, decoder):\n",
    "        super(Seq2Seq, self).__init__()\n",
    "        self.encoder = encoder\n",
    "        self.decoder = decoder\n",
    "\n",
    "    def forward(self, src, tgt):\n",
    "        \"\"\"\n",
    "        src, tgt (LongTensor): (batch size x sequence length)\n",
    "        returns (FloatTensor): (batch*tgt length) x output size\n",
    "        \"\"\"\n",
    "        context, enc_hidden = self.encoder(src)\n",
    "        return self.decoder(tgt, context=context, hidden=enc_hidden)"
   ]
  },
  {
   "cell_type": "markdown",
   "id": "2e5dbdc9",
   "metadata": {},
   "source": [
    "With our base model defined, we can write training and validation code:"
   ]
  },
  {
   "cell_type": "code",
   "execution_count": 8,
   "id": "8959b3a8",
   "metadata": {},
   "outputs": [],
   "source": [
    "def train_epoch(model, train_iter, loss, optimizer):\n",
    "    epoch_loss = 0.0\n",
    "    model.train()\n",
    "    random.shuffle(train_iter)  # present examples in random order\n",
    "    for src, tgt in train_iter:\n",
    "        model.zero_grad()\n",
    "        tgt_in = tgt[:, :-1]\n",
    "        pred, _ = model(src, tgt_in)\n",
    "        gold = tgt[:, 1:].contiguous().view(-1)\n",
    "\n",
    "        batch_loss = loss(pred, gold)\n",
    "        batch_loss.backward()\n",
    "        optimizer.step()\n",
    "        epoch_loss += batch_loss.item()\n",
    "    return epoch_loss\n",
    "\n",
    "\n",
    "def validate(model, data_iter):\n",
    "    model.eval()\n",
    "    n_correct = 0\n",
    "    n_total = 0\n",
    "    with torch.no_grad():\n",
    "        for src, tgt in data_iter:\n",
    "            tgt_in = tgt[:, :-1]\n",
    "            pred = model(src, tgt_in)[0].argmax(dim=1)\n",
    "            gold = tgt[:, 1:].contiguous().view(-1)\n",
    "            n_correct += (pred == gold).sum().item()\n",
    "            n_total += gold.size(0)\n",
    "        return n_correct / n_total\n",
    "\n",
    "\n",
    "def train(model, train, valid, epochs=30, learning_rate=0.5):\n",
    "    loss = nn.CrossEntropyLoss()\n",
    "    optimizer = torch.optim.SGD(model.parameters(), lr=learning_rate)\n",
    "\n",
    "    train_losses = []\n",
    "    valid_accs = []\n",
    "    epochs = list(range(1, epochs + 1))\n",
    "    for epoch in epochs:\n",
    "        print('Training epoch {}'.format(epoch))\n",
    "        train_loss = train_epoch(model, train, loss, optimizer)\n",
    "        train_losses.append(train_loss)\n",
    "        valid_acc = validate(model, valid)\n",
    "        valid_accs.append(valid_acc)\n",
    "        print('Train loss: {} ; Validation acc: {}'.format(train_loss, valid_acc))"
   ]
  },
  {
   "cell_type": "markdown",
   "id": "32421fb3",
   "metadata": {},
   "source": [
    "Train a unidirectional model without attention:"
   ]
  },
  {
   "cell_type": "code",
   "execution_count": 10,
   "id": "5cf2d5f5",
   "metadata": {},
   "outputs": [
    {
     "name": "stdout",
     "output_type": "stream",
     "text": [
      "Seq2Seq(\n",
      "  (encoder): Encoder(\n",
      "    (embeddings): Embedding(6, 6)\n",
      "    (rnn): LSTM(6, 64, batch_first=True)\n",
      "  )\n",
      "  (decoder): Decoder(\n",
      "    (embeddings): Embedding(6, 6)\n",
      "    (rnn): LSTM(6, 64, batch_first=True)\n",
      "    (output_layer): Linear(in_features=64, out_features=6, bias=True)\n",
      "  )\n",
      ")\n",
      "Training epoch 1\n",
      "Train loss: 321.8226054906845 ; Validation acc: 0.24092409240924093\n",
      "Training epoch 2\n",
      "Train loss: 313.7716647386551 ; Validation acc: 0.23102310231023102\n",
      "Training epoch 3\n",
      "Train loss: 310.373294711113 ; Validation acc: 0.24422442244224424\n",
      "Training epoch 4\n",
      "Train loss: 287.7677994966507 ; Validation acc: 0.33663366336633666\n",
      "Training epoch 5\n",
      "Train loss: 254.19489431381226 ; Validation acc: 0.38063806380638066\n",
      "Training epoch 6\n",
      "Train loss: 231.97208958864212 ; Validation acc: 0.45544554455445546\n",
      "Training epoch 7\n",
      "Train loss: 210.00151512026787 ; Validation acc: 0.5379537953795379\n",
      "Training epoch 8\n",
      "Train loss: 193.97680239379406 ; Validation acc: 0.5533553355335533\n",
      "Training epoch 9\n",
      "Train loss: 180.50842224806547 ; Validation acc: 0.5676567656765676\n",
      "Training epoch 10\n",
      "Train loss: 161.09742753207684 ; Validation acc: 0.6226622662266227\n",
      "Training epoch 11\n",
      "Train loss: 146.37811299413443 ; Validation acc: 0.6897689768976898\n",
      "Training epoch 12\n",
      "Train loss: 135.49565681815147 ; Validation acc: 0.6875687568756875\n",
      "Training epoch 13\n",
      "Train loss: 123.15073420479894 ; Validation acc: 0.7260726072607261\n",
      "Training epoch 14\n",
      "Train loss: 114.545680180192 ; Validation acc: 0.7392739273927392\n",
      "Training epoch 15\n",
      "Train loss: 104.23359826020896 ; Validation acc: 0.7051705170517052\n",
      "Training epoch 16\n",
      "Train loss: 97.58871652791277 ; Validation acc: 0.7348734873487349\n",
      "Training epoch 17\n",
      "Train loss: 96.9237558087334 ; Validation acc: 0.7447744774477447\n",
      "Training epoch 18\n",
      "Train loss: 89.27973360195756 ; Validation acc: 0.7810781078107811\n",
      "Training epoch 19\n",
      "Train loss: 78.95548074669205 ; Validation acc: 0.768976897689769\n",
      "Training epoch 20\n",
      "Train loss: 81.43446848122403 ; Validation acc: 0.8063806380638063\n",
      "Training epoch 21\n",
      "Train loss: 75.35184212215245 ; Validation acc: 0.7667766776677668\n",
      "Training epoch 22\n",
      "Train loss: 71.15078623546287 ; Validation acc: 0.7898789878987899\n",
      "Training epoch 23\n",
      "Train loss: 66.54491557413712 ; Validation acc: 0.8206820682068207\n",
      "Training epoch 24\n",
      "Train loss: 60.20239038101863 ; Validation acc: 0.8140814081408141\n",
      "Training epoch 25\n",
      "Train loss: 56.472228794475086 ; Validation acc: 0.8283828382838284\n",
      "Training epoch 26\n",
      "Train loss: 51.836652579018846 ; Validation acc: 0.7942794279427943\n",
      "Training epoch 27\n",
      "Train loss: 52.25459671835415 ; Validation acc: 0.8085808580858086\n",
      "Training epoch 28\n",
      "Train loss: 49.043045243946835 ; Validation acc: 0.8272827282728272\n",
      "Training epoch 29\n",
      "Train loss: 49.29636282584397 ; Validation acc: 0.8250825082508251\n",
      "Training epoch 30\n",
      "Train loss: 39.986575982533395 ; Validation acc: 0.8415841584158416\n",
      "Training epoch 31\n",
      "Train loss: 37.89863310800865 ; Validation acc: 0.845984598459846\n",
      "Training epoch 32\n",
      "Train loss: 33.425199030083604 ; Validation acc: 0.8448844884488449\n",
      "Training epoch 33\n",
      "Train loss: 34.41493947757408 ; Validation acc: 0.834983498349835\n",
      "Training epoch 34\n",
      "Train loss: 34.73350013856543 ; Validation acc: 0.8558855885588559\n",
      "Training epoch 35\n",
      "Train loss: 27.982243213104084 ; Validation acc: 0.8448844884488449\n",
      "Training epoch 36\n",
      "Train loss: 30.86154260672629 ; Validation acc: 0.8558855885588559\n",
      "Training epoch 37\n",
      "Train loss: 26.15505598593154 ; Validation acc: 0.8393839383938394\n",
      "Training epoch 38\n",
      "Train loss: 23.74187459461973 ; Validation acc: 0.8415841584158416\n",
      "Training epoch 39\n",
      "Train loss: 21.05204006146232 ; Validation acc: 0.8338833883388339\n",
      "Training epoch 40\n",
      "Train loss: 27.178984304133337 ; Validation acc: 0.8547854785478548\n",
      "Training epoch 41\n",
      "Train loss: 18.34997652634047 ; Validation acc: 0.8558855885588559\n",
      "Training epoch 42\n",
      "Train loss: 17.151243862492265 ; Validation acc: 0.823982398239824\n",
      "Training epoch 43\n",
      "Train loss: 34.55983598245075 ; Validation acc: 0.845984598459846\n",
      "Training epoch 44\n",
      "Train loss: 21.968171562009957 ; Validation acc: 0.8536853685368537\n",
      "Training epoch 45\n",
      "Train loss: 14.332408267538995 ; Validation acc: 0.8536853685368537\n",
      "Training epoch 46\n",
      "Train loss: 13.851607853212045 ; Validation acc: 0.8492849284928493\n",
      "Training epoch 47\n",
      "Train loss: 20.8374804785999 ; Validation acc: 0.8415841584158416\n",
      "Training epoch 48\n",
      "Train loss: 10.525193015921104 ; Validation acc: 0.8448844884488449\n",
      "Training epoch 49\n",
      "Train loss: 7.642506068368675 ; Validation acc: 0.856985698569857\n",
      "Training epoch 50\n",
      "Train loss: 8.64447266922798 ; Validation acc: 0.847084708470847\n"
     ]
    }
   ],
   "source": [
    "embedding_size = vocab_size\n",
    "hidden_size = 64\n",
    "\n",
    "enc = Encoder(vocab_size, embedding_size, hidden_size)\n",
    "dec = Decoder(vocab_size, embedding_size, hidden_size)\n",
    "enc.embeddings.weight.data = torch.eye(vocab_size)\n",
    "dec.embeddings.weight.data = enc.embeddings.weight.data\n",
    "enc.embeddings.weight.requires_grad = False\n",
    "dec.embeddings.weight.requires_grad = False\n",
    "\n",
    "model = Seq2Seq(enc, dec)\n",
    "print(model)\n",
    "\n",
    "train(model, train_dataset, valid_dataset, epochs=50)"
   ]
  },
  {
   "cell_type": "markdown",
   "id": "cf88e301",
   "metadata": {},
   "source": [
    "This model often manages to predict the right sequence, but it also often fails. Note that the decoder makes use of the *last* hidden state from the encoder, which has recently seen the final time step of the source sequence (in other words, the first element it needs to predict), but the other elements less recently. If only there were a way to make it easier for the model to focus on less recent positions...\n",
    "\n",
    "The attention mechanism is an extra layer for the decoder that can do precisely this. In this exercise, we consider a simple but effective attention mechanism called *dot product attention*.\n"
   ]
  },
  {
   "cell_type": "code",
   "execution_count": 11,
   "id": "5dd55f2a",
   "metadata": {},
   "outputs": [],
   "source": [
    "class DotProdAttention(nn.Module):\n",
    "\n",
    "    def __init__(self, hidden_size):\n",
    "        super().__init__()\n",
    "        # todo\n",
    "\n",
    "    def forward(self, query, context):\n",
    "        \"\"\"\n",
    "        query: batch x tgt_length x hidden_size\n",
    "        context: batch x src_length x hidden_size\n",
    "        \"\"\"\n",
    "        # todo\n",
    "        return attn_h_t, alignment"
   ]
  },
  {
   "cell_type": "markdown",
   "id": "06d56b9e",
   "metadata": {},
   "source": [
    "Now that attention has been implemented, we can train the model:"
   ]
  },
  {
   "cell_type": "code",
   "execution_count": 13,
   "id": "fb3e6acd",
   "metadata": {},
   "outputs": [
    {
     "name": "stdout",
     "output_type": "stream",
     "text": [
      "Seq2Seq(\n",
      "  (encoder): Encoder(\n",
      "    (embeddings): Embedding(6, 6)\n",
      "    (rnn): LSTM(6, 32, batch_first=True, bidirectional=True)\n",
      "  )\n",
      "  (decoder): Decoder(\n",
      "    (embeddings): Embedding(6, 6)\n",
      "    (rnn): LSTM(6, 64, batch_first=True)\n",
      "    (output_layer): Linear(in_features=64, out_features=6, bias=True)\n",
      "    (attn): DotProdAttention(\n",
      "      (mlp): Sequential(\n",
      "        (0): Linear(in_features=128, out_features=64, bias=True)\n",
      "        (1): Tanh()\n",
      "      )\n",
      "    )\n",
      "  )\n",
      ")\n",
      "Training epoch 1\n",
      "Train loss: 321.6503075361252 ; Validation acc: 0.23102310231023102\n",
      "Training epoch 2\n",
      "Train loss: 306.41105937957764 ; Validation acc: 0.34433443344334436\n",
      "Training epoch 3\n",
      "Train loss: 272.4157664477825 ; Validation acc: 0.44994499449944997\n",
      "Training epoch 4\n",
      "Train loss: 225.01492762565613 ; Validation acc: 0.5291529152915292\n",
      "Training epoch 5\n",
      "Train loss: 165.55305808782578 ; Validation acc: 0.8503850385038504\n",
      "Training epoch 6\n",
      "Train loss: 111.27659406885505 ; Validation acc: 0.8998899889988999\n",
      "Training epoch 7\n",
      "Train loss: 37.54796779761091 ; Validation acc: 0.8844884488448845\n",
      "Training epoch 8\n",
      "Train loss: 30.025590094388463 ; Validation acc: 0.9856985698569857\n",
      "Training epoch 9\n",
      "Train loss: 8.52730309998151 ; Validation acc: 0.9526952695269527\n",
      "Training epoch 10\n",
      "Train loss: 12.63085176734603 ; Validation acc: 0.977997799779978\n",
      "Training epoch 11\n",
      "Train loss: 4.270907785234158 ; Validation acc: 0.9955995599559956\n",
      "Training epoch 12\n",
      "Train loss: 7.918217603233643 ; Validation acc: 0.9867986798679867\n",
      "Training epoch 13\n",
      "Train loss: 1.992427081830101 ; Validation acc: 0.9966996699669967\n",
      "Training epoch 14\n",
      "Train loss: 0.5096367676451337 ; Validation acc: 0.9988998899889989\n",
      "Training epoch 15\n",
      "Train loss: 0.31819518321572104 ; Validation acc: 0.9977997799779978\n",
      "Training epoch 16\n",
      "Train loss: 0.07439997806795873 ; Validation acc: 0.9977997799779978\n",
      "Training epoch 17\n",
      "Train loss: 0.04545681643867283 ; Validation acc: 0.9977997799779978\n",
      "Training epoch 18\n",
      "Train loss: 0.03845382610234083 ; Validation acc: 0.9988998899889989\n",
      "Training epoch 19\n",
      "Train loss: 0.03369554374876316 ; Validation acc: 0.9988998899889989\n",
      "Training epoch 20\n",
      "Train loss: 0.03016302050673403 ; Validation acc: 0.9988998899889989\n",
      "Training epoch 21\n",
      "Train loss: 0.027373447392164962 ; Validation acc: 0.9988998899889989\n",
      "Training epoch 22\n",
      "Train loss: 0.025107269857471692 ; Validation acc: 0.9988998899889989\n",
      "Training epoch 23\n",
      "Train loss: 0.02321468350601208 ; Validation acc: 0.9988998899889989\n",
      "Training epoch 24\n",
      "Train loss: 0.021610996756862733 ; Validation acc: 0.9988998899889989\n",
      "Training epoch 25\n",
      "Train loss: 0.020233398963682703 ; Validation acc: 0.9988998899889989\n",
      "Training epoch 26\n",
      "Train loss: 0.019026670835955883 ; Validation acc: 0.9988998899889989\n",
      "Training epoch 27\n",
      "Train loss: 0.017967166048038052 ; Validation acc: 0.9988998899889989\n",
      "Training epoch 28\n",
      "Train loss: 0.01702175690115837 ; Validation acc: 0.9988998899889989\n",
      "Training epoch 29\n",
      "Train loss: 0.016177015166249475 ; Validation acc: 0.9988998899889989\n",
      "Training epoch 30\n",
      "Train loss: 0.015415765807119897 ; Validation acc: 0.9988998899889989\n"
     ]
    }
   ],
   "source": [
    "attn = DotProdAttention(hidden_size)\n",
    "enc = Encoder(vocab_size, embedding_size, hidden_size, bidirectional=True)\n",
    "dec = Decoder(vocab_size, embedding_size, hidden_size, attn=attn)\n",
    "enc.embeddings.weight.data = torch.eye(vocab_size)\n",
    "dec.embeddings.weight.data = enc.embeddings.weight.data\n",
    "enc.embeddings.weight.requires_grad = False\n",
    "dec.embeddings.weight.requires_grad = False\n",
    "\n",
    "attn_model = Seq2Seq(enc, dec)\n",
    "print(attn_model)\n",
    "\n",
    "train(attn_model, train_dataset, valid_dataset, epochs=30)"
   ]
  },
  {
   "cell_type": "markdown",
   "id": "7d2b4132",
   "metadata": {},
   "source": [
    "We can also visualize the model's attention matrix:"
   ]
  },
  {
   "cell_type": "code",
   "execution_count": 15,
   "id": "2fba04b2",
   "metadata": {},
   "outputs": [
    {
     "data": {
      "text/plain": [
       "<matplotlib.image.AxesImage at 0x14fbf6eb0>"
      ]
     },
     "execution_count": 15,
     "metadata": {},
     "output_type": "execute_result"
    },
    {
     "data": {
      "image/png": "[encoded data removed]",
      "text/plain": [
       "<Figure size 288x288 with 1 Axes>"
      ]
     },
     "metadata": {
      "needs_background": "light"
     },
     "output_type": "display_data"
    }
   ],
   "source": [
    "import matplotlib.pyplot as plt\n",
    "\n",
    "string = \"abacadabacc\"  # try something\n",
    "reversed_string = reversed(string)\n",
    "\n",
    "src = to_tensor(string)\n",
    "tgt = to_tensor(reversed_string)\n",
    "\n",
    "with torch.no_grad():\n",
    "    _, alignment = attn_model(src, tgt)\n",
    "\n",
    "attn_matrix = alignment.squeeze(0).numpy()\n",
    "plt.matshow(attn_matrix)"
   ]
  },
  {
   "cell_type": "code",
   "execution_count": null,
   "id": "31f9df9f",
   "metadata": {},
   "outputs": [],
   "source": []
  },
  {
   "cell_type": "code",
   "execution_count": null,
   "id": "87029bc8",
   "metadata": {},
   "outputs": [],
   "source": []
  }
 ],
 "metadata": {
  "kernelspec": {
   "display_name": "Python 3.10.6 64-bit",
   "language": "python",
   "name": "python3"
  },
  "language_info": {
   "codemirror_mode": {
    "name": "ipython",
    "version": 3
   },
   "file_extension": ".py",
   "mimetype": "text/x-python",
   "name": "python",
   "nbconvert_exporter": "python",
   "pygments_lexer": "ipython3",
   "version": "3.10.6"
  },
  "vscode": {
   "interpreter": {
    "hash": "916dbcbb3f70747c44a77c7bcd40155683ae19c65e1c03b4aa3499c5328201f1"
   }
  }
 },
 "nbformat": 4,
 "nbformat_minor": 5
}
